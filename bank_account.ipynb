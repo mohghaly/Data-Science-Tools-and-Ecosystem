{
  "nbformat": 4,
  "nbformat_minor": 0,
  "metadata": {
    "colab": {
      "provenance": [],
      "authorship_tag": "ABX9TyPE05Fe5bvKzlMTQqTVdOdU",
      "include_colab_link": true
    },
    "kernelspec": {
      "name": "python3",
      "display_name": "Python 3"
    },
    "language_info": {
      "name": "python"
    }
  },
  "cells": [
    {
      "cell_type": "markdown",
      "metadata": {
        "id": "view-in-github",
        "colab_type": "text"
      },
      "source": [
        "<a href=\"https://colab.research.google.com/github/mohghaly/Data-Science-Tools-and-Ecosystem/blob/main/bank_account.ipynb\" target=\"_parent\"><img src=\"https://colab.research.google.com/assets/colab-badge.svg\" alt=\"Open In Colab\"/></a>"
      ]
    },
    {
      "cell_type": "code",
      "execution_count": 4,
      "metadata": {
        "colab": {
          "base_uri": "https://localhost:8080/"
        },
        "id": "YvSVYPlkARRw",
        "outputId": "8994e0bf-4b7e-4c50-f3fa-6845d1483607"
      },
      "outputs": [
        {
          "output_type": "stream",
          "name": "stdout",
          "text": [
            "Deposited EGP 500.0. New balance: EGP 5500.0\n",
            "Withdrew EGP 2000.0. New balance: EGP 3500.0\n",
            "Current balance for Mohamed Ghaly's account (789123): EGP 3500.0\n",
            "Deposited EGP 1000.0. New balance: EGP 2500.0\n",
            "Withdrew EGP 2000.0. New balance: EGP 500.0\n",
            "Current balance for Jane Doe's account (789012): EGP 500.0\n"
          ]
        }
      ],
      "source": [
        "class Account:\n",
        "    def __init__(self, account_number, account_balance, account_holder):\n",
        "        self.account_number = account_number\n",
        "        self.account_balance = account_balance\n",
        "        self.account_holder = account_holder\n",
        "\n",
        "    def deposit(self, amount):\n",
        "        if amount > 0:\n",
        "            self.account_balance += amount\n",
        "            print(f\"Deposited EGP {amount}. New balance: EGP {self.account_balance}\")\n",
        "        else:\n",
        "            print(\"Invalid deposit amount. Amount must be greater than 0.\")\n",
        "\n",
        "    def withdraw(self, amount):\n",
        "        if amount > 0 and self.account_balance >= amount:\n",
        "            self.account_balance -= amount\n",
        "            print(f\"Withdrew EGP {amount}. New balance: EGP {self.account_balance}\")\n",
        "        elif amount <= 0:\n",
        "            print(\"Invalid withdrawal amount. Amount must be greater than 0.\")\n",
        "        else:\n",
        "            print(\"Insufficient funds for withdrawal.\")\n",
        "\n",
        "    def check_balance(self):\n",
        "        return f\"Current balance for {self.account_holder}'s account ({self.account_number}): EGP {self.account_balance}\"\n",
        "\n",
        "\n",
        "# Test the program\n",
        "if __name__ == \"__main__\":\n",
        "    # Create an instance of the Account class\n",
        "    my_account = Account(account_number=\"789123\", account_balance=5000.0, account_holder=\"Mohamed Ghaly\")\n",
        "\n",
        "    # Use the methods to deposit, withdraw, and check balance\n",
        "    my_account.deposit(500.0)\n",
        "    my_account.withdraw(2000.0)\n",
        "    print(my_account.check_balance())\n",
        "\n",
        "    # Create another account and perform transactions\n",
        "    another_account = Account(account_number=\"789012\", account_balance=1500.0, account_holder=\"Jane Doe\")\n",
        "    another_account.deposit(1000.0)\n",
        "    another_account.withdraw(2000.0)\n",
        "    print(another_account.check_balance())"
      ]
    },
    {
      "cell_type": "code",
      "source": [],
      "metadata": {
        "id": "qgZ4yxh-A-3y"
      },
      "execution_count": null,
      "outputs": []
    }
  ]
}